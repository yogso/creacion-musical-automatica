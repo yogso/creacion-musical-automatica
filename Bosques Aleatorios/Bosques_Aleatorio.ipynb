{
 "cells": [
  {
   "cell_type": "code",
   "execution_count": 1,
   "metadata": {},
   "outputs": [],
   "source": [
    "import numpy as np\n",
    "import os\n",
    "import glob\n",
    "from sklearn.ensemble import RandomForestClassifier\n",
    "from sklearn.externals import joblib\n",
    "from tqdm import tqdm\n",
    "import manipulacion_midi\n",
    "from sklearn.metrics import mean_squared_error, log_loss\n",
    "import matplotlib.pyplot as plt\n",
    "%matplotlib inline"
   ]
  },
  {
   "cell_type": "code",
   "execution_count": 3,
   "metadata": {},
   "outputs": [],
   "source": [
    "tiempos_previos=5                        #NÚmero de tiempos previos utilizados para el entrenamiento y la prediccion\n",
    "longitud_minima=15                       #Tamaño minimo (en tiempos) que deben tener las canciones del conjunto de entrenamiento\n",
    "carpeta_canciones='../canciones_entrenamiento'  #Carpeta donde estan las canciones el entrenamiento\n",
    "modelo_guardado='mejor_modelo_bosque.h5'        #Nombre del archivo donde se guardara el modelo entrenado\n",
    "profundidad_arbol=100                     #Profundidad máxima de cada árbol individual\n",
    "cantidad_arboles=5                        #Árboles que se crearan en el bosque\n",
    "\n",
    "#Elimina los tiempos vacios antes de todas las canciones\n",
    "def eliminar_zeros_iniciales(arr):\n",
    "    i=0\n",
    "    ceros=np.zeros_like(arr[0])\n",
    "    tamano=np.size(arr,0)\n",
    "    while np.array_equal(arr[i],ceros) and tamano!=1:\n",
    "        arr=np.delete(arr,i, axis=0)\n",
    "        tamano=tamano-1\n",
    "    return arr\n",
    "\n",
    "def leer_canciones(ruta):\n",
    "    print('Cargando archivos...')\n",
    "    archivos = glob.glob('{}/*.mid*'.format(ruta))\n",
    "    archivos = np.array(np.sort(archivos))\n",
    "    archivos = archivos.tolist()\n",
    "    global canciones\n",
    "    global numero_cancion\n",
    "    canciones = []\n",
    "    numero_cancion=0\n",
    "    for f in tqdm(archivos):\n",
    "        print(f)\n",
    "        try:\n",
    "            cancion = np.array(manipulacion_midi.midiToNoteStateMatrix(f))\t\t\t#Convierte los archivos .mid a matrices \n",
    "            cancion=eliminar_zeros_iniciales(cancion)\n",
    "            tam = np.array(cancion).shape[0]\n",
    "            print(tam)\n",
    "            if tam > longitud_minima:\n",
    "                if(numero_cancion==0):\n",
    "                    canciones=cancion\n",
    "                    numero_cancion=numero_cancion+1\n",
    "                else:\n",
    "                    canciones= np.concatenate([canciones, cancion], axis=0)\n",
    "                    numero_cancion=numero_cancion+1\n",
    "        except Exception as e:\n",
    "            raise e\n",
    "    return canciones\n"
   ]
  },
  {
   "cell_type": "code",
   "execution_count": 3,
   "metadata": {},
   "outputs": [
    {
     "name": "stdout",
     "output_type": "stream",
     "text": [
      "Cargando archivos...\n"
     ]
    },
    {
     "name": "stderr",
     "output_type": "stream",
     "text": [
      "\r",
      "  0%|                                                                                           | 0/30 [00:00<?, ?it/s]"
     ]
    },
    {
     "name": "stdout",
     "output_type": "stream",
     "text": [
      "canciones\\K19d Piano Sonata Duet.mid\n",
      "1761\n"
     ]
    },
    {
     "name": "stderr",
     "output_type": "stream",
     "text": [
      "\r",
      "  3%|██▊                                                                                | 1/30 [00:02<01:18,  2.72s/it]"
     ]
    },
    {
     "name": "stdout",
     "output_type": "stream",
     "text": [
      "canciones\\K279 Piano sonata n01 1mov.mid\n",
      "2204\n"
     ]
    },
    {
     "name": "stderr",
     "output_type": "stream",
     "text": [
      "\r",
      "  7%|█████▌                                                                             | 2/30 [00:05<01:19,  2.83s/it]"
     ]
    },
    {
     "name": "stdout",
     "output_type": "stream",
     "text": [
      "canciones\\K279 Piano sonata n01 3mov.mid\n",
      "1708\n"
     ]
    },
    {
     "name": "stderr",
     "output_type": "stream",
     "text": [
      "\r",
      " 10%|████████▎                                                                          | 3/30 [00:08<01:13,  2.71s/it]"
     ]
    },
    {
     "name": "stdout",
     "output_type": "stream",
     "text": [
      "canciones\\K281 Piano Sonata n03 1mov.mid\n",
      "2516\n"
     ]
    },
    {
     "name": "stderr",
     "output_type": "stream",
     "text": [
      "\r",
      " 13%|███████████                                                                        | 4/30 [00:11<01:18,  3.01s/it]"
     ]
    },
    {
     "name": "stdout",
     "output_type": "stream",
     "text": [
      "canciones\\K281 Piano Sonata n03 3mov.mid\n",
      "2387\n"
     ]
    },
    {
     "name": "stderr",
     "output_type": "stream",
     "text": [
      "\r",
      " 17%|█████████████▊                                                                     | 5/30 [00:17<01:30,  3.62s/it]"
     ]
    },
    {
     "name": "stdout",
     "output_type": "stream",
     "text": [
      "canciones\\K309 Piano Sonata n10 1mov.mid\n",
      "4957\n"
     ]
    },
    {
     "name": "stderr",
     "output_type": "stream",
     "text": [
      "\r",
      " 20%|████████████████▌                                                                  | 6/30 [00:36<03:20,  8.35s/it]"
     ]
    },
    {
     "name": "stdout",
     "output_type": "stream",
     "text": [
      "canciones\\K309 Piano Sonata n10 3mov.mid\n",
      "2014\n"
     ]
    },
    {
     "name": "stderr",
     "output_type": "stream",
     "text": [
      "\r",
      " 23%|███████████████████▎                                                               | 7/30 [00:44<03:13,  8.42s/it]"
     ]
    },
    {
     "name": "stdout",
     "output_type": "stream",
     "text": [
      "canciones\\K330 Piano Sonata n10 1mov.mid\n",
      "2399\n"
     ]
    },
    {
     "name": "stderr",
     "output_type": "stream",
     "text": [
      "\r",
      " 27%|██████████████████████▏                                                            | 8/30 [00:53<03:08,  8.58s/it]"
     ]
    },
    {
     "name": "stdout",
     "output_type": "stream",
     "text": [
      "canciones\\K330 Piano Sonata n10 3mov.mid\n",
      "2731\n"
     ]
    },
    {
     "name": "stderr",
     "output_type": "stream",
     "text": [
      "\r",
      " 30%|████████████████████████▉                                                          | 9/30 [01:05<03:18,  9.45s/it]"
     ]
    },
    {
     "name": "stdout",
     "output_type": "stream",
     "text": [
      "canciones\\K331 Piano sonata n11 3mov.mid\n",
      "1785\n"
     ]
    },
    {
     "name": "stderr",
     "output_type": "stream",
     "text": [
      "\r",
      " 33%|███████████████████████████▎                                                      | 10/30 [01:08<02:33,  7.65s/it]"
     ]
    },
    {
     "name": "stdout",
     "output_type": "stream",
     "text": [
      "canciones\\K333 Piano Sonata n13 1mov.mid\n",
      "5281\n"
     ]
    },
    {
     "name": "stderr",
     "output_type": "stream",
     "text": [
      "\r",
      " 37%|██████████████████████████████                                                    | 11/30 [01:25<03:14, 10.22s/it]"
     ]
    },
    {
     "name": "stdout",
     "output_type": "stream",
     "text": [
      "canciones\\K333 Piano Sonata n13 3mov.mid\n",
      "3153\n"
     ]
    },
    {
     "name": "stderr",
     "output_type": "stream",
     "text": [
      "\r",
      " 40%|████████████████████████████████▊                                                 | 12/30 [01:34<03:00, 10.04s/it]"
     ]
    },
    {
     "name": "stdout",
     "output_type": "stream",
     "text": [
      "canciones\\K358 Piano Sonata 4 Hands.mid\n",
      "1777\n"
     ]
    },
    {
     "name": "stderr",
     "output_type": "stream",
     "text": [
      "\r",
      " 43%|███████████████████████████████████▌                                              | 13/30 [01:37<02:14,  7.90s/it]"
     ]
    },
    {
     "name": "stdout",
     "output_type": "stream",
     "text": [
      "canciones\\K381 Piano Sonata 4 Hands.mid\n",
      "1553\n"
     ]
    },
    {
     "name": "stderr",
     "output_type": "stream",
     "text": [
      "\r",
      " 47%|██████████████████████████████████████▎                                           | 14/30 [01:40<01:42,  6.40s/it]"
     ]
    },
    {
     "name": "stdout",
     "output_type": "stream",
     "text": [
      "canciones\\K521 Piano Sonata 4 Hands.mid\n",
      "3649\n"
     ]
    },
    {
     "name": "stderr",
     "output_type": "stream",
     "text": [
      "\r",
      " 50%|█████████████████████████████████████████                                         | 15/30 [01:46<01:35,  6.38s/it]"
     ]
    },
    {
     "name": "stdout",
     "output_type": "stream",
     "text": [
      "canciones\\K545 Piano Sonata.mid\n",
      "2369\n"
     ]
    },
    {
     "name": "stderr",
     "output_type": "stream",
     "text": [
      "\r",
      " 53%|███████████████████████████████████████████▋                                      | 16/30 [01:53<01:30,  6.44s/it]"
     ]
    },
    {
     "name": "stdout",
     "output_type": "stream",
     "text": [
      "canciones\\K570 Piano Sonata 2mov.mid\n",
      "1265\n"
     ]
    },
    {
     "name": "stderr",
     "output_type": "stream",
     "text": [
      "\r",
      " 57%|██████████████████████████████████████████████▍                                   | 17/30 [01:55<01:08,  5.27s/it]"
     ]
    },
    {
     "name": "stdout",
     "output_type": "stream",
     "text": [
      "canciones\\K570 Piano Sonata 3mov.mid\n",
      "1939\n"
     ]
    },
    {
     "name": "stderr",
     "output_type": "stream",
     "text": [
      "\r",
      " 60%|█████████████████████████████████████████████████▏                                | 18/30 [02:00<01:02,  5.19s/it]"
     ]
    },
    {
     "name": "stdout",
     "output_type": "stream",
     "text": [
      "canciones\\Piano Sonata n01 K279.mid\n",
      "1617\n"
     ]
    },
    {
     "name": "stderr",
     "output_type": "stream",
     "text": [
      "\r",
      " 63%|███████████████████████████████████████████████████▉                              | 19/30 [02:10<01:13,  6.64s/it]"
     ]
    },
    {
     "name": "stdout",
     "output_type": "stream",
     "text": [
      "canciones\\Piano Sonata n03 K281.mid\n",
      "1745\n"
     ]
    },
    {
     "name": "stderr",
     "output_type": "stream",
     "text": [
      "\r",
      " 67%|██████████████████████████████████████████████████████▋                           | 20/30 [02:20<01:15,  7.52s/it]"
     ]
    },
    {
     "name": "stdout",
     "output_type": "stream",
     "text": [
      "canciones\\Piano Sonata n04 K282.mid\n",
      "1153\n"
     ]
    },
    {
     "name": "stderr",
     "output_type": "stream",
     "text": [
      "\r",
      " 70%|█████████████████████████████████████████████████████████▍                        | 21/30 [02:27<01:05,  7.23s/it]"
     ]
    },
    {
     "name": "stdout",
     "output_type": "stream",
     "text": [
      "canciones\\Piano Sonata n06 K284.mid\n",
      "2033\n"
     ]
    },
    {
     "name": "stderr",
     "output_type": "stream",
     "text": [
      "\r",
      " 73%|████████████████████████████████████████████████████████████▏                     | 22/30 [02:39<01:11,  8.90s/it]"
     ]
    },
    {
     "name": "stdout",
     "output_type": "stream",
     "text": [
      "canciones\\Piano Sonata n07 K309.mid\n",
      "2481\n"
     ]
    },
    {
     "name": "stderr",
     "output_type": "stream",
     "text": [
      "\r",
      " 77%|██████████████████████████████████████████████████████████████▊                   | 23/30 [02:53<01:12, 10.39s/it]"
     ]
    },
    {
     "name": "stdout",
     "output_type": "stream",
     "text": [
      "canciones\\Piano Sonata n08 K311.mid\n",
      "3281\n"
     ]
    },
    {
     "name": "stderr",
     "output_type": "stream",
     "text": [
      "\r",
      " 80%|█████████████████████████████████████████████████████████████████▌                | 24/30 [03:12<01:16, 12.79s/it]"
     ]
    },
    {
     "name": "stdout",
     "output_type": "stream",
     "text": [
      "canciones\\Piano Sonata n09 K310.mid\n",
      "2129\n"
     ]
    },
    {
     "name": "stderr",
     "output_type": "stream",
     "text": [
      "\r",
      " 83%|████████████████████████████████████████████████████████████████████▎             | 25/30 [03:24<01:03, 12.67s/it]"
     ]
    },
    {
     "name": "stdout",
     "output_type": "stream",
     "text": [
      "canciones\\Piano Sonata n10 K330.mid\n",
      "2401\n"
     ]
    },
    {
     "name": "stderr",
     "output_type": "stream",
     "text": [
      "\r",
      " 87%|███████████████████████████████████████████████████████████████████████           | 26/30 [03:35<00:48, 12.08s/it]"
     ]
    },
    {
     "name": "stdout",
     "output_type": "stream",
     "text": [
      "canciones\\Piano Sonata n13 K333.mid\n",
      "2645\n"
     ]
    },
    {
     "name": "stderr",
     "output_type": "stream",
     "text": [
      "\r",
      " 90%|█████████████████████████████████████████████████████████████████████████▊        | 27/30 [03:52<00:40, 13.65s/it]"
     ]
    },
    {
     "name": "stdout",
     "output_type": "stream",
     "text": [
      "canciones\\Piano Sonata n14 K457.mid\n",
      "4897\n"
     ]
    },
    {
     "name": "stderr",
     "output_type": "stream",
     "text": [
      "\r",
      " 93%|████████████████████████████████████████████████████████████████████████████▌     | 28/30 [04:15<00:32, 16.43s/it]"
     ]
    },
    {
     "name": "stdout",
     "output_type": "stream",
     "text": [
      "canciones\\Piano Sonata n15 K593-494.mid\n",
      "3829\n"
     ]
    },
    {
     "name": "stderr",
     "output_type": "stream",
     "text": [
      "\r",
      " 97%|███████████████████████████████████████████████████████████████████████████████▎  | 29/30 [04:34<00:17, 17.27s/it]"
     ]
    },
    {
     "name": "stdout",
     "output_type": "stream",
     "text": [
      "canciones\\Piano Sonata n16 K545.mid\n",
      "1185\n"
     ]
    },
    {
     "name": "stderr",
     "output_type": "stream",
     "text": [
      "100%|██████████████████████████████████████████████████████████████████████████████████| 30/30 [04:40<00:00, 13.78s/it]\n"
     ]
    },
    {
     "name": "stdout",
     "output_type": "stream",
     "text": [
      "Se cargaron 30 canciones\n"
     ]
    }
   ],
   "source": [
    "#Cargar canciones\n",
    "canciones = leer_canciones(carpeta_canciones)\n",
    "\n",
    "print(\"Se cargaron {} canciones\".format(numero_cancion))"
   ]
  },
  {
   "cell_type": "code",
   "execution_count": 4,
   "metadata": {},
   "outputs": [],
   "source": [
    "X=[]\n",
    "y=[]\n",
    "for i in range(0, len(canciones) - tiempos_previos):\n",
    "    X.append(np.ravel(canciones[i: i + tiempos_previos]))\n",
    "    y.append(canciones[i + tiempos_previos])"
   ]
  },
  {
   "cell_type": "code",
   "execution_count": 6,
   "metadata": {},
   "outputs": [
    {
     "data": {
      "text/plain": [
       "['mejor_modelo.h5']"
      ]
     },
     "execution_count": 6,
     "metadata": {},
     "output_type": "execute_result"
    }
   ],
   "source": [
    "clf = RandomForestClassifier(max_depth=profundidad_arbol, n_estimators=cantidad_arboles)\n",
    "clf = clf.fit(X, y)\n",
    "\n",
    "joblib.dump(clf,modelo_guardado)\t\t#Guarda el modelo generado en un archivo 'modelo_guardado'"
   ]
  },
  {
   "cell_type": "code",
   "execution_count": 4,
   "metadata": {},
   "outputs": [],
   "source": [
    "if os.path.isfile('./{}'.format(modelo_guardado)):\n",
    "    clf = joblib.load(open(modelo_guardado, 'rb'))\t\t#Carga el modelo entrenado\n",
    "else:\n",
    "    print('No existe el modelo')"
   ]
  },
  {
   "cell_type": "code",
   "execution_count": 8,
   "metadata": {},
   "outputs": [
    {
     "data": {
      "text/plain": [
       "10.26166272021457"
      ]
     },
     "execution_count": 8,
     "metadata": {},
     "output_type": "execute_result"
    }
   ],
   "source": [
    "#Evaluacion de modelo\n",
    "\n",
    "#mean_squared_error(y, clf.predict(X)) \n",
    "\n",
    "log_loss(np.asarray(y), np.asarray(clf.predict(X)))\n"
   ]
  },
  {
   "cell_type": "code",
   "execution_count": 35,
   "metadata": {},
   "outputs": [
    {
     "data": {
      "text/plain": [
       "<matplotlib.image.AxesImage at 0x28200a41da0>"
      ]
     },
     "execution_count": 35,
     "metadata": {},
     "output_type": "execute_result"
    },
    {
     "data": {
      "image/png": "[encoded data removed]",
      "text/plain": [
       "<matplotlib.figure.Figure at 0x282009e8278>"
      ]
     },
     "metadata": {},
     "output_type": "display_data"
    }
   ],
   "source": [
    "w = np.random.choice([0, 1], size=(tiempos_previos,156),  p=[0.95,0.05])\n",
    "plt.imshow(w)"
   ]
  },
  {
   "cell_type": "code",
   "execution_count": 83,
   "metadata": {},
   "outputs": [
    {
     "data": {
      "text/plain": [
       "<matplotlib.image.AxesImage at 0x28202411f28>"
      ]
     },
     "execution_count": 83,
     "metadata": {},
     "output_type": "execute_result"
    },
    {
     "data": {
      "image/png": "[encoded data removed]",
      "text/plain": [
       "<matplotlib.figure.Figure at 0x28202385588>"
      ]
     },
     "metadata": {},
     "output_type": "display_data"
    }
   ],
   "source": [
    "w=canciones[3600:3605,:]\n",
    "plt.imshow(w)"
   ]
  },
  {
   "cell_type": "code",
   "execution_count": 84,
   "metadata": {},
   "outputs": [
    {
     "name": "stderr",
     "output_type": "stream",
     "text": [
      "100%|████████████████████████████████████████████████████████████████████████████████| 200/200 [00:14<00:00, 10.26it/s]\n"
     ]
    }
   ],
   "source": [
    "#Generar nueva cancion\n",
    "\n",
    "tamano_cancion=200         #Numero de tiempos que tendra la cancion generada\n",
    "\n",
    "u = np.zeros((1, tiempos_previos, 156), dtype=np.int32)\n",
    "tamano_cancion=tamano_cancion+tiempos_previos\n",
    "cancion_base=w\n",
    "ent=np.zeros((tamano_cancion,156))\n",
    "ent[0:tiempos_previos,:]=cancion_base\n",
    "for i in tqdm(range (0,tamano_cancion-tiempos_previos)):\t\t\t#Creacion de la cancion\n",
    "    nueva_fila = clf.predict(np.reshape(ent[i:i+tiempos_previos,:].ravel(),(1,tiempos_previos*156)))\n",
    "    if (np.all(np.round_(nueva_fila)==0)):\n",
    "        nueva_fila[0,np.argsort(-nueva_fila)[0,:4]]=1\n",
    "    ent[i+tiempos_previos] = nueva_fila\n",
    "    ent=np.round_(ent)\n",
    "\n",
    "ent=ent[tiempos_previos:tamano_cancion+tiempos_previos,:]"
   ]
  },
  {
   "cell_type": "code",
   "execution_count": 85,
   "metadata": {
    "scrolled": true
   },
   "outputs": [
    {
     "data": {
      "text/plain": [
       "<matplotlib.image.AxesImage at 0x282024809b0>"
      ]
     },
     "execution_count": 85,
     "metadata": {},
     "output_type": "execute_result"
    },
    {
     "data": {
      "image/png": "[encoded data removed]",
      "text/plain": [
       "<matplotlib.figure.Figure at 0x282021d63c8>"
      ]
     },
     "metadata": {},
     "output_type": "display_data"
    }
   ],
   "source": [
    "plt.imshow(ent)"
   ]
  },
  {
   "cell_type": "code",
   "execution_count": 86,
   "metadata": {},
   "outputs": [],
   "source": [
    "manipulacion_midi.noteStateMatrixToMidi(ent, \"./cancion_generada7\")"
   ]
  },
  {
   "cell_type": "code",
   "execution_count": null,
   "metadata": {},
   "outputs": [],
   "source": []
  }
 ],
 "metadata": {
  "kernelspec": {
   "display_name": "Python 3",
   "language": "python",
   "name": "python3"
  },
  "language_info": {
   "codemirror_mode": {
    "name": "ipython",
    "version": 3
   },
   "file_extension": ".py",
   "mimetype": "text/x-python",
   "name": "python",
   "nbconvert_exporter": "python",
   "pygments_lexer": "ipython3",
   "version": "3.5.4"
  }
 },
 "nbformat": 4,
 "nbformat_minor": 2
}
